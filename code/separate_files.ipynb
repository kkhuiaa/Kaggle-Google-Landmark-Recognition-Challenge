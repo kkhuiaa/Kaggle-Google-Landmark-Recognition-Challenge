{
 "cells": [
  {
   "cell_type": "code",
   "execution_count": 2,
   "metadata": {},
   "outputs": [],
   "source": [
    "import numpy as np\n",
    "import pandas as pd\n",
    "import os, shutil\n",
    "from tqdm import tqdm"
   ]
  },
  {
   "cell_type": "code",
   "execution_count": 3,
   "metadata": {},
   "outputs": [],
   "source": [
    "csv_path = 'train_200.csv'\n",
    "from_path = '../train'\n",
    "to_path = 'data'"
   ]
  },
  {
   "cell_type": "code",
   "execution_count": 4,
   "metadata": {},
   "outputs": [],
   "source": [
    "def load_df(path):\n",
    "    train_df = pd.read_csv(path)\n",
    "    X = train_df['id']\n",
    "    y = train_df['landmark_id']\n",
    "    \n",
    "    return train_df, X, y\n",
    "\n",
    "\n",
    "\n",
    "df, X, y = load_df(csv_path)"
   ]
  },
  {
   "cell_type": "code",
   "execution_count": 5,
   "metadata": {},
   "outputs": [],
   "source": [
    "from sklearn.model_selection import StratifiedShuffleSplit\n",
    "\n",
    "# split train & (validation + test)\n",
    "split_rule = StratifiedShuffleSplit(n_splits=1, test_size=0.22, random_state=9)\n",
    "\n",
    "for train_id, test_id in split_rule.split(X, y):\n",
    "    X_train, X_val_test = X.iloc[train_id], X.iloc[test_id]\n",
    "    y_train, y_val_test = y.iloc[train_id], y.iloc[test_id]\n",
    "\n",
    "# split validation & test\n",
    "split_rule2 = StratifiedShuffleSplit(n_splits=1, test_size=0.5, random_state=9)\n",
    "for train_id, test_id in split_rule2.split(X_val_test, y_val_test):\n",
    "    X_valid, X_test = X_val_test.iloc[train_id], X_val_test.iloc[test_id]\n",
    "    y_valid, y_test = y_val_test.iloc[train_id], y_val_test.iloc[test_id]"
   ]
  },
  {
   "cell_type": "code",
   "execution_count": 6,
   "metadata": {},
   "outputs": [
    {
     "name": "stdout",
     "output_type": "stream",
     "text": [
      "number of train files:  630286\n",
      "number of test files:  88887\n",
      "number of validation files:  88887\n"
     ]
    }
   ],
   "source": [
    "train_files = (y_train.values, X_train.values)\n",
    "test_files = (y_test.values, X_test.values)\n",
    "valid_files = (y_valid.values, X_valid.values)\n",
    "\n",
    "print('number of train files: ', len(train_files[0]))\n",
    "print('number of test files: ', len(test_files[0]))\n",
    "print('number of validation files: ', len(valid_files[0]))\n"
   ]
  },
  {
   "cell_type": "code",
   "execution_count": null,
   "metadata": {},
   "outputs": [],
   "source": [
    "# src_temp = os.path.join(from_path, str(train_files[0][0]), train_files[1][0] + '.jpg')\n",
    "# dst_temp = os.path.join(to_path, 'validation', str(train_files[0][0]), train_files[1][0] + '.jpg')\n",
    "\n",
    "dst_ldm = os.path.join(to_path, 'validation', str(train_files[0][0]))\n",
    "dst_temp = os.path.join(dst_ldm, train_files[1][0] + '.jpg')\n",
    "\n",
    "dst_temp"
   ]
  },
  {
   "cell_type": "code",
   "execution_count": null,
   "metadata": {},
   "outputs": [],
   "source": [
    "# if not os.path.exists(dst_ldm):\n",
    "#     os.makedirs(dst_ldm)\n",
    "# shutil.move(src_temp, dst_temp)"
   ]
  },
  {
   "cell_type": "code",
   "execution_count": null,
   "metadata": {},
   "outputs": [],
   "source": [
    "def move_files(split_str):\n",
    "    split = {'validation': valid_files, 'test': test_files, 'train':train_files}\n",
    "    \n",
    "    landmark = split[split_str][0]\n",
    "    img_id = split[split_str][1]\n",
    "    \n",
    "    for index, f in tqdm(enumerate(img_id)):\n",
    "        src_path = os.path.join(from_path, str(landmark[index]))\n",
    "        dst_path = os.path.join(to_path, split_str, str(landmark[index]))\n",
    "        \n",
    "        src_img = os.path.join(src_path, f+'.jpg')\n",
    "        dst_img = os.path.join(dst_path, f+'.jpg')\n",
    "        \n",
    "        if not os.path.exists(dst_path):\n",
    "            os.makedirs(dst_path)\n",
    "        \n",
    "        try:\n",
    "            shutil.move(src_img, dst_img)\n",
    "        except Exception as e:\n",
    "            print(e)\n"
   ]
  },
  {
   "cell_type": "code",
   "execution_count": null,
   "metadata": {},
   "outputs": [],
   "source": [
    "move_files('validation')"
   ]
  },
  {
   "cell_type": "code",
   "execution_count": null,
   "metadata": {},
   "outputs": [],
   "source": [
    "valid = os.listdir('data/validation') \n",
    "len(valid)"
   ]
  },
  {
   "cell_type": "code",
   "execution_count": null,
   "metadata": {},
   "outputs": [],
   "source": [
    "move_files('test')"
   ]
  },
  {
   "cell_type": "code",
   "execution_count": null,
   "metadata": {},
   "outputs": [],
   "source": [
    "test = os.listdir('data/test') \n",
    "len(test)"
   ]
  },
  {
   "cell_type": "code",
   "execution_count": null,
   "metadata": {},
   "outputs": [],
   "source": [
    "move_files('train')"
   ]
  },
  {
   "cell_type": "code",
   "execution_count": 8,
   "metadata": {},
   "outputs": [
    {
     "data": {
      "text/plain": [
       "1066"
      ]
     },
     "execution_count": 8,
     "metadata": {},
     "output_type": "execute_result"
    }
   ],
   "source": [
    "train = os.listdir('data/train') \n",
    "len(train)"
   ]
  },
  {
   "cell_type": "code",
   "execution_count": null,
   "metadata": {},
   "outputs": [],
   "source": []
  }
 ],
 "metadata": {
  "kernelspec": {
   "display_name": "Python 3",
   "language": "python",
   "name": "python3"
  },
  "language_info": {
   "codemirror_mode": {
    "name": "ipython",
    "version": 3
   },
   "file_extension": ".py",
   "mimetype": "text/x-python",
   "name": "python",
   "nbconvert_exporter": "python",
   "pygments_lexer": "ipython3",
   "version": "3.6.9"
  }
 },
 "nbformat": 4,
 "nbformat_minor": 2
}
